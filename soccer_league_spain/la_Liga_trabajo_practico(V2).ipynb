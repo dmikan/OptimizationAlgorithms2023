{
  "nbformat": 4,
  "nbformat_minor": 0,
  "metadata": {
    "colab": {
      "provenance": [],
      "authorship_tag": "ABX9TyOYOpIswEFlPBax+tfsjNvR",
      "include_colab_link": true
    },
    "kernelspec": {
      "name": "python3",
      "display_name": "Python 3"
    },
    "language_info": {
      "name": "python"
    }
  },
  "cells": [
    {
      "cell_type": "markdown",
      "metadata": {
        "id": "view-in-github",
        "colab_type": "text"
      },
      "source": [
        "<a href=\"https://colab.research.google.com/github/dmikan/OptimizationAlgorithms2023/blob/main/soccer_league_spain/la_Liga_trabajo_practico(V2).ipynb\" target=\"_parent\"><img src=\"https://colab.research.google.com/assets/colab-badge.svg\" alt=\"Open In Colab\"/></a>"
      ]
    },
    {
      "cell_type": "markdown",
      "source": [
        "## Algoritmos de optimización - Trabajo Práctico<br>\n",
        "Nombre y Apellidos: Danny Julián Perilla mikán  <br>\n",
        "Url: https://github.com/dmikan/OptimizationAlgorithms2023<br>\n",
        "Google Colab: https://colab.research.google.com/drive/1cOhF8TxjPytH4ualIdqbKo--o6UUxrcL?usp=sharing <br>\n",
        "Problema:\n",
        ">2. Organizar los horarios de partidos de La Liga<br>\n",
        "\n",
        "- En primer lugar se clasifican los equipos en tres categorías según el numero de\n",
        "seguidores( que tiene relación directa con la audiencia). Hay 3 equipos en la\n",
        "categoría A, 11 equipos de categoría B y 6 equipos de categoría C. Supongamos que las categorias están dadas por la siguiente tabla:\n",
        "\n",
        "<br>\n",
        "<center>\n",
        "<table style=\"font-size: larger;\">\n",
        "  <tr>\n",
        "    <th>Categoría</th>\n",
        "    <th>Equipo</th>\n",
        "    <th>Abreviación</th>\n",
        "  </tr>\n",
        "  <tr>\n",
        "    <td>A</td>\n",
        "    <td>Real Madrid</td>\n",
        "    <td>RMD</td>\n",
        "  </tr>\n",
        "  <tr>\n",
        "    <td>A</td>\n",
        "    <td>Barcelona</td>\n",
        "    <td>BAR</td>\n",
        "  </tr>\n",
        "  <tr>\n",
        "    <td>A</td>\n",
        "    <td>Valencia</td>\n",
        "    <td>VAL</td>\n",
        "  </tr>\n",
        "  <tr>\n",
        "    <td>B</td>\n",
        "    <td>Real Sociedad</td>\n",
        "    <td>RSO</td>\n",
        "  </tr>\n",
        "  <tr>\n",
        "    <td>B</td>\n",
        "    <td>Sevilla</td>\n",
        "    <td>SEV</td>\n",
        "  </tr>\n",
        "  <tr>\n",
        "    <td>B</td>\n",
        "    <td>Celta de Vigo</td>\n",
        "    <td>CEL</td>\n",
        "  </tr>\n",
        "  <tr>\n",
        "    <td>B</td>\n",
        "    <td>Athletic Bilbao</td>\n",
        "    <td>ATH</td>\n",
        "  </tr>\n",
        "  <tr>\n",
        "    <td>B</td>\n",
        "    <td>Mallorca</td>\n",
        "    <td>MAL</td>\n",
        "  </tr>\n",
        "  <tr>\n",
        "    <td>B</td>\n",
        "    <td>Valladolid</td>\n",
        "    <td>VLL</td>\n",
        "  </tr>\n",
        "  <tr>\n",
        "    <td>B</td>\n",
        "    <td>Villarreal</td>\n",
        "    <td>VIL</td>\n",
        "  </tr>\n",
        "  <tr>\n",
        "    <td>B</td>\n",
        "    <td>Atlético de Madrid</td>\n",
        "    <td>ATM</td>\n",
        "  </tr>\n",
        "  <tr>\n",
        "    <td>B</td>\n",
        "    <td>Real Betis</td>\n",
        "    <td>BET</td>\n",
        "  </tr>\n",
        "  <tr>\n",
        "    <td>B</td>\n",
        "    <td>Vallecano</td>\n",
        "    <td>RAY</td>\n",
        "  </tr>\n",
        "  <tr>\n",
        "    <td>B</td>\n",
        "    <td>Almería</td>\n",
        "    <td>ALM</td>\n",
        "  </tr>\n",
        "  <tr>\n",
        "    <td>C</td>\n",
        "    <td>Cádiz</td>\n",
        "    <td>CAD</td>\n",
        "  </tr>\n",
        "  <tr>\n",
        "    <td>C</td>\n",
        "    <td>Osasuna</td>\n",
        "    <td>OSA</td>\n",
        "  </tr>\n",
        "  <tr>\n",
        "    <td>C</td>\n",
        "    <td>Getafe</td>\n",
        "    <td>GET</td>\n",
        "  </tr>\n",
        "  <tr>\n",
        "    <td>C</td>\n",
        "    <td>Elche</td>\n",
        "    <td>ELC</td>\n",
        "  </tr>\n",
        "  <tr>\n",
        "    <td>C</td>\n",
        "    <td>Girona</td>\n",
        "    <td>GIR</td>\n",
        "  </tr>\n",
        "  <tr>\n",
        "    <td>C</td>\n",
        "    <td>Espanyol</td>\n",
        "    <td>ESP</td>\n",
        "  </tr>\n",
        "</table>\n",
        "</center>\n",
        "<br>\n",
        "\n",
        "- Se conoce estadísticamente la audiencia que genera cada partido según los equipos\n",
        "que se enfrentan y en horario de sábado a las 20h (el mejor en todos los casos)\n",
        "<br>\n",
        "<center>\n",
        "<table style=\"font-size: larger;\">\n",
        "  <tr>\n",
        "    <th></th>\n",
        "    <th>Categoría A</th>\n",
        "    <th>Categoría B</th>\n",
        "    <th>Categoría C</th>\n",
        "  </tr>\n",
        "  <tr>\n",
        "    <td>Categoría A</td>\n",
        "    <td>2 Millones</td>\n",
        "    <td>1.3 Millones</td>\n",
        "    <td>1 Millón</td>\n",
        "  </tr>\n",
        "  <tr>\n",
        "    <td>Categoría B</td>\n",
        "    <td></td>\n",
        "    <td>0.9 Millones</td>\n",
        "    <td>0.75 Millones</td>\n",
        "  </tr>\n",
        "  <tr>\n",
        "    <td>Categoría C</td>   \n",
        "    <td></td>\n",
        "    <td></td>\n",
        "    <td>0.47 Millones</td>\n",
        "  </tr>\n",
        "</table>\n",
        "</center>         \n",
        "<br>\n",
        "- Si el horario del partido no se realiza a las 20 horas del sábado se sabe que se reduce según los coeficientes de la siguiente tabla\n",
        "\n",
        "\n",
        "- Debemos asignar obligatoriamente siempre un partido el viernes y un partido el lunes\n",
        "<br>\n",
        "<center>\n",
        "<table style=\"font-size: larger;\">\n",
        "  <tr>\n",
        "    <th></th>\n",
        "    <th>Viernes</th>\n",
        "    <th>Sábado</th>\n",
        "    <th>Domingo</th>\n",
        "    <th>Lunes</th>\n",
        "  </tr>\n",
        "  <tr>\n",
        "    <td>12h</td>\n",
        "    <td>-</td>\n",
        "    <td>0.55</td>\n",
        "    <td>0.45</td>\n",
        "    <td>-</td>\n",
        "  </tr>\n",
        "  <tr>\n",
        "    <td>16h</td>\n",
        "    <td>-</td>\n",
        "    <td>0.7</td>\n",
        "    <td>0.75</td>\n",
        "    <td>-</td>\n",
        "  </tr>\n",
        "  <tr>\n",
        "    <td>18h</td>\n",
        "    <td>-</td>\n",
        "    <td>0.8</td>\n",
        "    <td>0.85</td>\n",
        "    <td>-</td>\n",
        "  </tr>\n",
        "  <tr>\n",
        "    <td>20h</td>\n",
        "    <td>0.4</td>\n",
        "    <td>1</td>\n",
        "    <td>1</td>\n",
        "    <td>0.4</td>\n",
        "  </tr>\n",
        "</table>\n",
        "</center>\n",
        "\n",
        "- Es posible la coincidencia de horarios pero en este caso la audiencia de cada partido se verá afectada y se estima que se reduce en porcentaje según la siguiente tabla dependiendo del número de coincidencias:\n",
        "<br>\n",
        "<center>\n",
        "<table style=\"font-size: larger;\">\n",
        "  <tr>\n",
        "    <th>Coincidencias</th>\n",
        "    <th>Porcentaje</th>\n",
        "  </tr>\n",
        "  <tr>\n",
        "    <td>0</td>\n",
        "    <td>0%</td>\n",
        "  </tr>\n",
        "  <tr>\n",
        "    <td>1</td>\n",
        "    <td>25%</td>\n",
        "  </tr>\n",
        "  <tr>\n",
        "    <td>2</td>\n",
        "    <td>45%</td>\n",
        "  </tr>\n",
        "  <tr>\n",
        "    <td>3</td>\n",
        "    <td>60%</td>\n",
        "  </tr>\n",
        "  <tr>\n",
        "    <td>4</td>\n",
        "    <td>70%</td>\n",
        "  </tr>\n",
        "  <tr>\n",
        "    <td>5</td>\n",
        "    <td>75%</td>\n",
        "  </tr>\n",
        "  <tr>\n",
        "    <td>6</td>\n",
        "    <td>78%</td>\n",
        "  </tr>\n",
        "  <tr>\n",
        "    <td>7</td>\n",
        "    <td>80%</td>\n",
        "  </tr>\n",
        "  <tr>\n",
        "    <td>8</td>\n",
        "    <td>80%</td>\n",
        "  </tr>\n",
        "</table>\n",
        "</center>\n",
        "\n"
      ],
      "metadata": {
        "id": "92_QRs5S-im1"
      }
    },
    {
      "cell_type": "markdown",
      "source": [
        "Antes de comenzar vamos a importar las librerias que usaremos."
      ],
      "metadata": {
        "id": "gJbzsL0gEa7Z"
      }
    },
    {
      "cell_type": "code",
      "source": [
        "# Importar librerías\n",
        "import numpy as np\n",
        "import matplotlib.pyplot as plt\n",
        "import pandas as pd\n",
        "import random\n",
        "import itertools\n",
        "import time"
      ],
      "metadata": {
        "id": "kS4uUTm6Wz59"
      },
      "execution_count": 401,
      "outputs": []
    },
    {
      "cell_type": "markdown",
      "source": [
        "#Modelo\n",
        "- ¿Como represento el espacio de soluciones?\n",
        "- ¿Cual es la función objetivo?\n",
        "- ¿Como implemento las restricciones?"
      ],
      "metadata": {
        "id": "aVaKkdPm-96e"
      }
    },
    {
      "cell_type": "markdown",
      "source": [
        "## Espacio de Soluciones\n"
      ],
      "metadata": {
        "id": "YNZTxJk7WYWI"
      }
    },
    {
      "cell_type": "markdown",
      "source": [
        "Antes de sbe cómo vamos a representar el espacio solución, debemos llevarnos una idea del problema para poder representarlo matemáticamente. Vamos a empezar importando unos datos de la Liga de la temporada 2022-23."
      ],
      "metadata": {
        "id": "0lG7RetAErLM"
      }
    },
    {
      "cell_type": "code",
      "source": [
        "# Cargemos los primeros 19 encuentros de la temporada 2022-23 que corresponde a los juegos de ida\n",
        "frame = pd.read_csv('laliga_cat.csv')\n",
        "subdataframes = {}\n",
        "for jornada in range(1, 20):\n",
        "    subdataframes[jornada] = frame.query(f\"Jornada == {jornada}\")\n",
        "\n",
        "# Visualicemos la primera jornada de la liga de la temporada\n",
        "display(subdataframes[1])"
      ],
      "metadata": {
        "id": "ESPEHM35wHqo",
        "colab": {
          "base_uri": "https://localhost:8080/",
          "height": 363
        },
        "outputId": "3f246b5f-9141-428f-e193-c65208d14547"
      },
      "execution_count": 422,
      "outputs": [
        {
          "output_type": "display_data",
          "data": {
            "text/plain": [
              "   Jornada       Team1        Team2   T1   T2 CAT1 CAT2\n",
              "0        1     Osasuna      Sevilla  OSA  SEV    C    B\n",
              "1        1       Celta      Espanol  CEL  ESP    B    C\n",
              "2        1  Valladolid   Villarreal  VLL  VIL    B    B\n",
              "3        1   Barcelona    Vallecano  BAR  RAY    A    B\n",
              "4        1       Cadiz     Sociedad  CAD  RSO    C    B\n",
              "5        1    Valencia       Girona  VAL  GIR    A    C\n",
              "6        1     Almeria  Real Madrid  ALM  RMD    B    A\n",
              "7        1  Ath Bilbao     Mallorca  ATH  MAL    B    B\n",
              "8        1      Getafe   Ath Madrid  GET  ATM    C    B\n",
              "9        1       Betis        Elche  BET  ELC    B    C"
            ],
            "text/html": [
              "\n",
              "  <div id=\"df-5fa79fb8-c3ec-4171-86b3-dec2a067349a\" class=\"colab-df-container\">\n",
              "    <div>\n",
              "<style scoped>\n",
              "    .dataframe tbody tr th:only-of-type {\n",
              "        vertical-align: middle;\n",
              "    }\n",
              "\n",
              "    .dataframe tbody tr th {\n",
              "        vertical-align: top;\n",
              "    }\n",
              "\n",
              "    .dataframe thead th {\n",
              "        text-align: right;\n",
              "    }\n",
              "</style>\n",
              "<table border=\"1\" class=\"dataframe\">\n",
              "  <thead>\n",
              "    <tr style=\"text-align: right;\">\n",
              "      <th></th>\n",
              "      <th>Jornada</th>\n",
              "      <th>Team1</th>\n",
              "      <th>Team2</th>\n",
              "      <th>T1</th>\n",
              "      <th>T2</th>\n",
              "      <th>CAT1</th>\n",
              "      <th>CAT2</th>\n",
              "    </tr>\n",
              "  </thead>\n",
              "  <tbody>\n",
              "    <tr>\n",
              "      <th>0</th>\n",
              "      <td>1</td>\n",
              "      <td>Osasuna</td>\n",
              "      <td>Sevilla</td>\n",
              "      <td>OSA</td>\n",
              "      <td>SEV</td>\n",
              "      <td>C</td>\n",
              "      <td>B</td>\n",
              "    </tr>\n",
              "    <tr>\n",
              "      <th>1</th>\n",
              "      <td>1</td>\n",
              "      <td>Celta</td>\n",
              "      <td>Espanol</td>\n",
              "      <td>CEL</td>\n",
              "      <td>ESP</td>\n",
              "      <td>B</td>\n",
              "      <td>C</td>\n",
              "    </tr>\n",
              "    <tr>\n",
              "      <th>2</th>\n",
              "      <td>1</td>\n",
              "      <td>Valladolid</td>\n",
              "      <td>Villarreal</td>\n",
              "      <td>VLL</td>\n",
              "      <td>VIL</td>\n",
              "      <td>B</td>\n",
              "      <td>B</td>\n",
              "    </tr>\n",
              "    <tr>\n",
              "      <th>3</th>\n",
              "      <td>1</td>\n",
              "      <td>Barcelona</td>\n",
              "      <td>Vallecano</td>\n",
              "      <td>BAR</td>\n",
              "      <td>RAY</td>\n",
              "      <td>A</td>\n",
              "      <td>B</td>\n",
              "    </tr>\n",
              "    <tr>\n",
              "      <th>4</th>\n",
              "      <td>1</td>\n",
              "      <td>Cadiz</td>\n",
              "      <td>Sociedad</td>\n",
              "      <td>CAD</td>\n",
              "      <td>RSO</td>\n",
              "      <td>C</td>\n",
              "      <td>B</td>\n",
              "    </tr>\n",
              "    <tr>\n",
              "      <th>5</th>\n",
              "      <td>1</td>\n",
              "      <td>Valencia</td>\n",
              "      <td>Girona</td>\n",
              "      <td>VAL</td>\n",
              "      <td>GIR</td>\n",
              "      <td>A</td>\n",
              "      <td>C</td>\n",
              "    </tr>\n",
              "    <tr>\n",
              "      <th>6</th>\n",
              "      <td>1</td>\n",
              "      <td>Almeria</td>\n",
              "      <td>Real Madrid</td>\n",
              "      <td>ALM</td>\n",
              "      <td>RMD</td>\n",
              "      <td>B</td>\n",
              "      <td>A</td>\n",
              "    </tr>\n",
              "    <tr>\n",
              "      <th>7</th>\n",
              "      <td>1</td>\n",
              "      <td>Ath Bilbao</td>\n",
              "      <td>Mallorca</td>\n",
              "      <td>ATH</td>\n",
              "      <td>MAL</td>\n",
              "      <td>B</td>\n",
              "      <td>B</td>\n",
              "    </tr>\n",
              "    <tr>\n",
              "      <th>8</th>\n",
              "      <td>1</td>\n",
              "      <td>Getafe</td>\n",
              "      <td>Ath Madrid</td>\n",
              "      <td>GET</td>\n",
              "      <td>ATM</td>\n",
              "      <td>C</td>\n",
              "      <td>B</td>\n",
              "    </tr>\n",
              "    <tr>\n",
              "      <th>9</th>\n",
              "      <td>1</td>\n",
              "      <td>Betis</td>\n",
              "      <td>Elche</td>\n",
              "      <td>BET</td>\n",
              "      <td>ELC</td>\n",
              "      <td>B</td>\n",
              "      <td>C</td>\n",
              "    </tr>\n",
              "  </tbody>\n",
              "</table>\n",
              "</div>\n",
              "    <div class=\"colab-df-buttons\">\n",
              "\n",
              "  <div class=\"colab-df-container\">\n",
              "    <button class=\"colab-df-convert\" onclick=\"convertToInteractive('df-5fa79fb8-c3ec-4171-86b3-dec2a067349a')\"\n",
              "            title=\"Convert this dataframe to an interactive table.\"\n",
              "            style=\"display:none;\">\n",
              "\n",
              "  <svg xmlns=\"http://www.w3.org/2000/svg\" height=\"24px\" viewBox=\"0 -960 960 960\">\n",
              "    <path d=\"M120-120v-720h720v720H120Zm60-500h600v-160H180v160Zm220 220h160v-160H400v160Zm0 220h160v-160H400v160ZM180-400h160v-160H180v160Zm440 0h160v-160H620v160ZM180-180h160v-160H180v160Zm440 0h160v-160H620v160Z\"/>\n",
              "  </svg>\n",
              "    </button>\n",
              "\n",
              "  <style>\n",
              "    .colab-df-container {\n",
              "      display:flex;\n",
              "      gap: 12px;\n",
              "    }\n",
              "\n",
              "    .colab-df-convert {\n",
              "      background-color: #E8F0FE;\n",
              "      border: none;\n",
              "      border-radius: 50%;\n",
              "      cursor: pointer;\n",
              "      display: none;\n",
              "      fill: #1967D2;\n",
              "      height: 32px;\n",
              "      padding: 0 0 0 0;\n",
              "      width: 32px;\n",
              "    }\n",
              "\n",
              "    .colab-df-convert:hover {\n",
              "      background-color: #E2EBFA;\n",
              "      box-shadow: 0px 1px 2px rgba(60, 64, 67, 0.3), 0px 1px 3px 1px rgba(60, 64, 67, 0.15);\n",
              "      fill: #174EA6;\n",
              "    }\n",
              "\n",
              "    .colab-df-buttons div {\n",
              "      margin-bottom: 4px;\n",
              "    }\n",
              "\n",
              "    [theme=dark] .colab-df-convert {\n",
              "      background-color: #3B4455;\n",
              "      fill: #D2E3FC;\n",
              "    }\n",
              "\n",
              "    [theme=dark] .colab-df-convert:hover {\n",
              "      background-color: #434B5C;\n",
              "      box-shadow: 0px 1px 3px 1px rgba(0, 0, 0, 0.15);\n",
              "      filter: drop-shadow(0px 1px 2px rgba(0, 0, 0, 0.3));\n",
              "      fill: #FFFFFF;\n",
              "    }\n",
              "  </style>\n",
              "\n",
              "    <script>\n",
              "      const buttonEl =\n",
              "        document.querySelector('#df-5fa79fb8-c3ec-4171-86b3-dec2a067349a button.colab-df-convert');\n",
              "      buttonEl.style.display =\n",
              "        google.colab.kernel.accessAllowed ? 'block' : 'none';\n",
              "\n",
              "      async function convertToInteractive(key) {\n",
              "        const element = document.querySelector('#df-5fa79fb8-c3ec-4171-86b3-dec2a067349a');\n",
              "        const dataTable =\n",
              "          await google.colab.kernel.invokeFunction('convertToInteractive',\n",
              "                                                    [key], {});\n",
              "        if (!dataTable) return;\n",
              "\n",
              "        const docLinkHtml = 'Like what you see? Visit the ' +\n",
              "          '<a target=\"_blank\" href=https://colab.research.google.com/notebooks/data_table.ipynb>data table notebook</a>'\n",
              "          + ' to learn more about interactive tables.';\n",
              "        element.innerHTML = '';\n",
              "        dataTable['output_type'] = 'display_data';\n",
              "        await google.colab.output.renderOutput(dataTable, element);\n",
              "        const docLink = document.createElement('div');\n",
              "        docLink.innerHTML = docLinkHtml;\n",
              "        element.appendChild(docLink);\n",
              "      }\n",
              "    </script>\n",
              "  </div>\n",
              "\n",
              "\n",
              "<div id=\"df-12cc0efb-595d-4a05-8465-bac98806f22b\">\n",
              "  <button class=\"colab-df-quickchart\" onclick=\"quickchart('df-12cc0efb-595d-4a05-8465-bac98806f22b')\"\n",
              "            title=\"Suggest charts\"\n",
              "            style=\"display:none;\">\n",
              "\n",
              "<svg xmlns=\"http://www.w3.org/2000/svg\" height=\"24px\"viewBox=\"0 0 24 24\"\n",
              "     width=\"24px\">\n",
              "    <g>\n",
              "        <path d=\"M19 3H5c-1.1 0-2 .9-2 2v14c0 1.1.9 2 2 2h14c1.1 0 2-.9 2-2V5c0-1.1-.9-2-2-2zM9 17H7v-7h2v7zm4 0h-2V7h2v10zm4 0h-2v-4h2v4z\"/>\n",
              "    </g>\n",
              "</svg>\n",
              "  </button>\n",
              "\n",
              "<style>\n",
              "  .colab-df-quickchart {\n",
              "      --bg-color: #E8F0FE;\n",
              "      --fill-color: #1967D2;\n",
              "      --hover-bg-color: #E2EBFA;\n",
              "      --hover-fill-color: #174EA6;\n",
              "      --disabled-fill-color: #AAA;\n",
              "      --disabled-bg-color: #DDD;\n",
              "  }\n",
              "\n",
              "  [theme=dark] .colab-df-quickchart {\n",
              "      --bg-color: #3B4455;\n",
              "      --fill-color: #D2E3FC;\n",
              "      --hover-bg-color: #434B5C;\n",
              "      --hover-fill-color: #FFFFFF;\n",
              "      --disabled-bg-color: #3B4455;\n",
              "      --disabled-fill-color: #666;\n",
              "  }\n",
              "\n",
              "  .colab-df-quickchart {\n",
              "    background-color: var(--bg-color);\n",
              "    border: none;\n",
              "    border-radius: 50%;\n",
              "    cursor: pointer;\n",
              "    display: none;\n",
              "    fill: var(--fill-color);\n",
              "    height: 32px;\n",
              "    padding: 0;\n",
              "    width: 32px;\n",
              "  }\n",
              "\n",
              "  .colab-df-quickchart:hover {\n",
              "    background-color: var(--hover-bg-color);\n",
              "    box-shadow: 0 1px 2px rgba(60, 64, 67, 0.3), 0 1px 3px 1px rgba(60, 64, 67, 0.15);\n",
              "    fill: var(--button-hover-fill-color);\n",
              "  }\n",
              "\n",
              "  .colab-df-quickchart-complete:disabled,\n",
              "  .colab-df-quickchart-complete:disabled:hover {\n",
              "    background-color: var(--disabled-bg-color);\n",
              "    fill: var(--disabled-fill-color);\n",
              "    box-shadow: none;\n",
              "  }\n",
              "\n",
              "  .colab-df-spinner {\n",
              "    border: 2px solid var(--fill-color);\n",
              "    border-color: transparent;\n",
              "    border-bottom-color: var(--fill-color);\n",
              "    animation:\n",
              "      spin 1s steps(1) infinite;\n",
              "  }\n",
              "\n",
              "  @keyframes spin {\n",
              "    0% {\n",
              "      border-color: transparent;\n",
              "      border-bottom-color: var(--fill-color);\n",
              "      border-left-color: var(--fill-color);\n",
              "    }\n",
              "    20% {\n",
              "      border-color: transparent;\n",
              "      border-left-color: var(--fill-color);\n",
              "      border-top-color: var(--fill-color);\n",
              "    }\n",
              "    30% {\n",
              "      border-color: transparent;\n",
              "      border-left-color: var(--fill-color);\n",
              "      border-top-color: var(--fill-color);\n",
              "      border-right-color: var(--fill-color);\n",
              "    }\n",
              "    40% {\n",
              "      border-color: transparent;\n",
              "      border-right-color: var(--fill-color);\n",
              "      border-top-color: var(--fill-color);\n",
              "    }\n",
              "    60% {\n",
              "      border-color: transparent;\n",
              "      border-right-color: var(--fill-color);\n",
              "    }\n",
              "    80% {\n",
              "      border-color: transparent;\n",
              "      border-right-color: var(--fill-color);\n",
              "      border-bottom-color: var(--fill-color);\n",
              "    }\n",
              "    90% {\n",
              "      border-color: transparent;\n",
              "      border-bottom-color: var(--fill-color);\n",
              "    }\n",
              "  }\n",
              "</style>\n",
              "\n",
              "  <script>\n",
              "    async function quickchart(key) {\n",
              "      const quickchartButtonEl =\n",
              "        document.querySelector('#' + key + ' button');\n",
              "      quickchartButtonEl.disabled = true;  // To prevent multiple clicks.\n",
              "      quickchartButtonEl.classList.add('colab-df-spinner');\n",
              "      try {\n",
              "        const charts = await google.colab.kernel.invokeFunction(\n",
              "            'suggestCharts', [key], {});\n",
              "      } catch (error) {\n",
              "        console.error('Error during call to suggestCharts:', error);\n",
              "      }\n",
              "      quickchartButtonEl.classList.remove('colab-df-spinner');\n",
              "      quickchartButtonEl.classList.add('colab-df-quickchart-complete');\n",
              "    }\n",
              "    (() => {\n",
              "      let quickchartButtonEl =\n",
              "        document.querySelector('#df-12cc0efb-595d-4a05-8465-bac98806f22b button');\n",
              "      quickchartButtonEl.style.display =\n",
              "        google.colab.kernel.accessAllowed ? 'block' : 'none';\n",
              "    })();\n",
              "  </script>\n",
              "</div>\n",
              "\n",
              "    </div>\n",
              "  </div>\n"
            ],
            "application/vnd.google.colaboratory.intrinsic+json": {
              "type": "dataframe",
              "summary": "{\n  \"name\": \"display(subdataframes[1])\",\n  \"rows\": 10,\n  \"fields\": [\n    {\n      \"column\": \"Jornada\",\n      \"properties\": {\n        \"dtype\": \"number\",\n        \"std\": 0,\n        \"min\": 1,\n        \"max\": 1,\n        \"num_unique_values\": 1,\n        \"samples\": [\n          1\n        ],\n        \"semantic_type\": \"\",\n        \"description\": \"\"\n      }\n    },\n    {\n      \"column\": \"Team1\",\n      \"properties\": {\n        \"dtype\": \"string\",\n        \"num_unique_values\": 10,\n        \"samples\": [\n          \"Getafe\"\n        ],\n        \"semantic_type\": \"\",\n        \"description\": \"\"\n      }\n    },\n    {\n      \"column\": \"Team2\",\n      \"properties\": {\n        \"dtype\": \"string\",\n        \"num_unique_values\": 10,\n        \"samples\": [\n          \"Ath Madrid\"\n        ],\n        \"semantic_type\": \"\",\n        \"description\": \"\"\n      }\n    },\n    {\n      \"column\": \"T1\",\n      \"properties\": {\n        \"dtype\": \"string\",\n        \"num_unique_values\": 10,\n        \"samples\": [\n          \"GET\"\n        ],\n        \"semantic_type\": \"\",\n        \"description\": \"\"\n      }\n    },\n    {\n      \"column\": \"T2\",\n      \"properties\": {\n        \"dtype\": \"string\",\n        \"num_unique_values\": 10,\n        \"samples\": [\n          \"ATM\"\n        ],\n        \"semantic_type\": \"\",\n        \"description\": \"\"\n      }\n    },\n    {\n      \"column\": \"CAT1\",\n      \"properties\": {\n        \"dtype\": \"category\",\n        \"num_unique_values\": 3,\n        \"samples\": [\n          \"C\"\n        ],\n        \"semantic_type\": \"\",\n        \"description\": \"\"\n      }\n    },\n    {\n      \"column\": \"CAT2\",\n      \"properties\": {\n        \"dtype\": \"category\",\n        \"num_unique_values\": 3,\n        \"samples\": [\n          \"B\"\n        ],\n        \"semantic_type\": \"\",\n        \"description\": \"\"\n      }\n    }\n  ]\n}"
            }
          },
          "metadata": {}
        }
      ]
    },
    {
      "cell_type": "markdown",
      "source": [
        "Este dataset nos va a ayudar a tener la libertar de cubrir los casos posibles en los cuales se pueden enfrentar los equipos. Solamente nos interesará qué categorías se enfrentan y por tanto extraeremos las dos últimas columnas del dataframe en forma de tuplas."
      ],
      "metadata": {
        "id": "r5mC2cpmFBPK"
      }
    },
    {
      "cell_type": "code",
      "source": [
        "# De los dataframes podemos extraer las categorias de los encuentros\n",
        "encuentros_jornada = [0]\n",
        "for i in range(1, 20):\n",
        "    encuentros_jornada.append(list(zip(subdataframes[i]['CAT1'], subdataframes[i]['CAT2'])))\n",
        "\n",
        "# Por ejemplo en la jornada 1 tuvimos los siguiente encuentro en función de las categorías\n",
        "encuentros_jornada[1]"
      ],
      "metadata": {
        "id": "eMbdPrXY8nkg",
        "colab": {
          "base_uri": "https://localhost:8080/",
          "height": 0
        },
        "outputId": "2ac187d2-a980-42eb-bd30-b16fda0102b9"
      },
      "execution_count": 423,
      "outputs": [
        {
          "output_type": "execute_result",
          "data": {
            "text/plain": [
              "[('C', 'B'),\n",
              " ('B', 'C'),\n",
              " ('B', 'B'),\n",
              " ('A', 'B'),\n",
              " ('C', 'B'),\n",
              " ('A', 'C'),\n",
              " ('B', 'A'),\n",
              " ('B', 'B'),\n",
              " ('C', 'B'),\n",
              " ('B', 'C')]"
            ]
          },
          "metadata": {},
          "execution_count": 423
        }
      ]
    },
    {
      "cell_type": "markdown",
      "source": [
        "De modo que podríamos hacerle una asignación de horarios de la siguiente forma por ejemplo:\n",
        "<center>\n",
        "<table>\n",
        "<tr><th>CAT1</th><th>CAT2</th><th>HORARIO</th></tr>\n",
        "<tr><td>C</td><td>B</td><td>S12</td></tr>\n",
        "<tr><td>B</td><td>C</td><td>D12</td></tr>\n",
        "<tr><td>B</td><td>B</td><td>S20</td></tr>\n",
        "<tr><td>A</td><td>B</td><td>S18</td></tr>\n",
        "<tr><td>C</td><td>B</td><td>S18</td></tr>\n",
        "<tr><td>A</td><td>C</td><td>S16</td></tr>\n",
        "<tr><td>B</td><td>A</td><td>S12</td></tr>\n",
        "<tr><td>B</td><td>B</td><td>D20</td></tr>\n",
        "<tr><td>C</td><td>B</td><td>L20</td></tr>\n",
        "<tr><td>B</td><td>C</td><td>V20</td></tr>\n",
        "</table>\n",
        "</center>\n",
        "\n",
        "Debemos tener en cuenta que deben haber obligatoriamente por lo menos un encuentro en el horario V20 y otro en el horario L20. De modo que el espacio solución puede ser representado como tuplas de 10 tuplas de la siguiente forma:\n",
        "\n",
        "(X , X , X , X , X , X , X , X, L20, V20)\n",
        "\n",
        "En donde X puede tomar cualquier otro horario. Este espacio solución es de tamaño $10^8$ considerando que cada entrada puede ser seleccionado de 10 formas diferentes."
      ],
      "metadata": {
        "id": "zZGBnBTMwL_x"
      }
    },
    {
      "cell_type": "markdown",
      "source": [
        "## Función Objetivo"
      ],
      "metadata": {
        "id": "X76dQH2sWSr9"
      }
    },
    {
      "cell_type": "markdown",
      "source": [
        "Para poder representar la función objetivo, necesitamos traducir los valores categóricos a numéricos. Los encuentros tienen unos valores de audiencia designados por el problema y los horarios tienen unos pesos ya designados. Esto lo representaremos a través de dos diccionarios. También definiremos la matriz de ponderaciones por simultaneidad de encuentros."
      ],
      "metadata": {
        "id": "NlDYBWh8FoLP"
      }
    },
    {
      "cell_type": "code",
      "source": [
        "audiencia = {('A', 'A'): 2,\n",
        "             ('A', 'B'): 1.3,\n",
        "             ('B', 'A'): 1.3,\n",
        "             ('A', 'C'): 1,\n",
        "             ('C', 'A'): 1,\n",
        "             ('B', 'B'): 0.9,\n",
        "             ('B', 'C'): 0.75,\n",
        "             ('C', 'B'): 0.75,\n",
        "             ('C', 'C'): 0.47}\n",
        "\n",
        "ponderacion = {'V20': 0.4,\n",
        "               'S12': 0.55,\n",
        "               'S16': 0.7,\n",
        "               'S18': 0.8,\n",
        "               'S20': 1,\n",
        "               'D12': 0.45,\n",
        "               'D16': 0.75,\n",
        "               'D18': 0.85,\n",
        "               'D20': 0.99,\n",
        "               'L20': 0.4}\n",
        "\n",
        "# Definir pesos por simultaneidad de encuentros\n",
        "pesos = np.array([1,\n",
        "                  0.75,\n",
        "                  0.55,\n",
        "                  0.4,\n",
        "                  0.3,\n",
        "                  0.25,\n",
        "                  0.22,\n",
        "                  0.2,\n",
        "                  0.2,\n",
        "                  0]).reshape(-1, 1)"
      ],
      "metadata": {
        "id": "2lpffIkwZ0R3"
      },
      "execution_count": 424,
      "outputs": []
    },
    {
      "cell_type": "markdown",
      "source": [
        "Para pasar los datos categóricos en datos numéricos necesitamos dos funiciones que reciban los diccionarios anteriors. Los datos numéricos por audiencia los organizamos de mayor a menor en una lista de modo que las primeras entradas de la lista representan los encuentros con mayor audiencia."
      ],
      "metadata": {
        "id": "G4FMZVQiGIHY"
      }
    },
    {
      "cell_type": "code",
      "source": [
        "# obtener_coeficientes para una determianda jornada permanecen constantes y representan los coeficientes de la función lineal objetivo\n",
        "def obtener_audiencias(lista_original, audiencia):\n",
        "    lista_actualizada = []\n",
        "    valores = []\n",
        "    for tupla in lista_original:\n",
        "        num = audiencia.get(tupla)\n",
        "        lista_actualizada.append((tupla, num))\n",
        "        valores.append(num)\n",
        "    return sorted(lista_actualizada, key=lambda x: x[1], reverse=True), np.array(sorted(valores, reverse=True))\n",
        "\n",
        "# obtener valores numéricos (ponderaciones) de horarios de juego\n",
        "def obtener_ponderaciones_de_horario(lista_original, ponderacion):\n",
        "    lista_actualizada = [ponderacion.get(tupla, None) for tupla in lista_original]\n",
        "    return lista_actualizada\n",
        "\n",
        "# Iterar sobre cada encuentro en encuentros_jornada\n",
        "valores_encuentros = [0]\n",
        "for i in range(1,20):\n",
        "    parejas, valores = obtener_audiencias(encuentros_jornada[i], audiencia)\n",
        "    valores_encuentros.append(valores)"
      ],
      "metadata": {
        "id": "pjvl6aORGHCH"
      },
      "execution_count": 425,
      "outputs": []
    },
    {
      "cell_type": "markdown",
      "source": [
        "Consideremos todas las posibles combinaciones entre ponderaciones y audiencias. Esto lo podemos representar con el producto externo de las listas numéricas de audiencia y ponderaciones, esto nos dá una matríz de pesos que puede ser representada gráficamente. Estas gráficas nos permitirá identificar regiones del espacio solución con soluciones factibles."
      ],
      "metadata": {
        "id": "mEhxTDICMlgC"
      }
    },
    {
      "cell_type": "code",
      "source": [
        "# Crear una figura y subgráficos con 1 fila y 3 columnas\n",
        "fig, axs = plt.subplots(1, 3, figsize=(15, 5))  # Ajusta el tamaño de la figura según tus preferencias\n",
        "\n",
        "# Iterar sobre los valores_encuentros y crear un gráfico para cada uno\n",
        "for i in range(1, 4):\n",
        "    producto_externo = np.round(np.outer(valores_encuentros[i+4], pesos), decimals=2)\n",
        "    axs[i-1].imshow(producto_externo, cmap=plt.cm.hot, interpolation='nearest')\n",
        "    axs[i-1].set_xlabel('Cantidad de encuentros en el mismo horario')\n",
        "    axs[i-1].set_ylabel('Escala de encuentros por audiencia')\n",
        "    axs[i-1].set_title(f'Jornada {i+4} de la Liga')\n",
        "    fig.colorbar(axs[i-1].imshow(producto_externo, cmap=plt.cm.hot, interpolation='nearest'), ax=axs[i-1])\n",
        "fig.suptitle('Pesos (coeficientes) de la función objetivo de 3 jornadas de la Liga')\n",
        "plt.tight_layout()  # Ajusta automáticamente el diseño de los subgráficos\n",
        "plt.show()"
      ],
      "metadata": {
        "colab": {
          "base_uri": "https://localhost:8080/",
          "height": 434
        },
        "id": "EoEqNMemsnv1",
        "outputId": "d4173759-e7ce-43c6-ddc7-7936fb6df1d8"
      },
      "execution_count": 426,
      "outputs": [
        {
          "output_type": "display_data",
          "data": {
            "text/plain": [
              "<Figure size 1500x500 with 6 Axes>"
            ],
            "image/png": "[encoded data removed]"
          },
          "metadata": {}
        }
      ]
    },
    {
      "cell_type": "markdown",
      "source": [
        "Estas matrices representan los coeficientes de la función objetivo. Para cada jornada de la Liga hay una función objetivo específica. Observe que las regiones más claras son mejores en terminos de maximizar la audiencia, es la región en donde no hay encuentros simultaneos y los encuentros son los más atractivos para el público. Estas matrices son de tamaño $10\\times 10$ de modo que la función objetivo cuenta con 100 variables.\n",
        "\n",
        "- ¿Cómo podemos representar una tupla de horarios con 10 entradas usando 100 variables?\n",
        "\n",
        "Note que los elementos de nuestro espacio solución pueden ser representados como matrices, por ejemplo la tupla\n",
        "\n",
        "<center>\n",
        "<table>\n",
        "<tr>\n",
        "<td>S12</td>\n",
        "<td>D12</td>\n",
        "<td>S20</td>\n",
        "<td>S18</td>\n",
        "<td>S18</td>\n",
        "<td>S16</td>\n",
        "<td>S12</td>\n",
        "<td>D20</td>\n",
        "<td>L20</td>\n",
        "<td>V20</td>\n",
        "</tr>\n",
        "<tr>\n",
        "<td>0.55</td>\n",
        "<td>0.45</td>\n",
        "<td>1</td>\n",
        "<td>0.8</td>\n",
        "<td>0.8</td>\n",
        "<td>0.7</td>\n",
        "<td>0.55</td>\n",
        "<td>1</td>\n",
        "<td>0.4</td>\n",
        "<td>0.4</td>\n",
        "</tr>\n",
        "</table>\n",
        "</center>\n",
        "\n",
        "\n",
        "tiene la siguiente representación matricial:\n",
        "\n",
        "\\begin{pmatrix}\n",
        "         0 & 0.55 & 0 & 0 & 0 & 0 & 0 & 0 & 0\\\\\n",
        "         0.45 & 0 & 0 & 0 & 0 & 0 & 0 & 0 & 0\\\\\n",
        "         1 & 0 & 0 & 0 & 0 & 0 & 0 & 0 & 0\\\\\n",
        "         0 & 0.8 & 0 & 0 & 0 & 0 & 0 & 0 & 0\\\\\n",
        "         0 & 0.8 & 0 & 0 & 0 & 0 & 0 & 0 & 0\\\\\n",
        "         0.7 & 0 & 0 & 0 & 0 & 0 & 0 & 0 & 0\\\\\n",
        "         0 & 0.55 & 0 & 0 & 0 & 0 & 0 & 0 & 0\\\\\n",
        "         1 & 0 & 0 & 0 & 0 & 0 & 0 & 0 & 0\\\\\n",
        "         0.4 & 0 & 0 & 0 & 0 & 0 & 0 & 0 & 0\\\\\n",
        "         0.4 & 0 & 0 & 0 & 0 & 0 & 0 & 0 & 0\\\\\n",
        "\\end{pmatrix}\n",
        "\n",
        "\n",
        "De modo que ya podemos calcular los valores para un determinado punto en nuestro espacio solución. La implementación de la función objetivo se muestra enseguida."
      ],
      "metadata": {
        "id": "bVBp_xv7jlxk"
      }
    },
    {
      "cell_type": "code",
      "source": [
        "# Contar la frecuencia de cada elemento en la lista\n",
        "def contar_frecuencia(lista):\n",
        "    frecuencia = {}\n",
        "    for elemento in lista:\n",
        "        if elemento in frecuencia:\n",
        "            frecuencia[elemento] += 1\n",
        "        else:\n",
        "            frecuencia[elemento] = 1\n",
        "    lista_tuplas = [frecuencia[elemento] for elemento in lista]\n",
        "    lista_tuplas[-1] = 1  # fijar restriccion para horario de viernes\n",
        "    lista_tuplas[-2] = 1  # fijar restriccion para horario de lunes\n",
        "    return lista_tuplas\n",
        "\n",
        "# formar matriz\n",
        "import numpy as np\n",
        "def formar_matriz(columna, valores):\n",
        "    matriz = np.zeros((10,10))\n",
        "    for fila, columna, valor in zip(range(10), columna, valores):\n",
        "        matriz[fila, columna - 1] = valor\n",
        "    return np.array(matriz)\n",
        "\n",
        "# Función objetivo\n",
        "def evaluar_funcion_objetivo(tupla, valores):\n",
        "        lista = obtener_ponderaciones_de_horario(list(tupla), ponderacion)\n",
        "        repetidos = contar_frecuencia(lista)\n",
        "        matriz = formar_matriz(repetidos, lista)\n",
        "        resultado = np.dot(valores, np.dot(matriz, pesos))\n",
        "        return matriz, lista, resultado"
      ],
      "metadata": {
        "id": "2OLQSHMIgZWD"
      },
      "execution_count": 427,
      "outputs": []
    },
    {
      "cell_type": "markdown",
      "source": [
        "## Implementación de las *restricciones*"
      ],
      "metadata": {
        "id": "7bvju9ciUV1s"
      }
    },
    {
      "cell_type": "markdown",
      "source": [
        "- Observe que la restricción de que haya siempre un encuentro por lo menos en los horarios V20 y L20 se representa manteniedo fijos los valores 0.4 en las entradas (10, 1) y (9,1) de la representación matricial de los elementos del espacio solución."
      ],
      "metadata": {
        "id": "G4DZplLBm4ub"
      }
    },
    {
      "cell_type": "code",
      "source": [
        "# Ejemplo de representación\n",
        "#[[0.  , 0.55 , 0.  , 0.  , 0.  , 0.  , 0.  , 0.  , 0.  , 0.  ],\n",
        "# [0.45, 0.   , 0.  , 0.  , 0.  , 0.  , 0.  , 0.  , 0.  , 0.  ],\n",
        "# [1.  , 0.   , 0.  , 0.  , 0.  , 0.  , 0.  , 0.  , 0.  , 0.  ],\n",
        "# [0.  , 0.8  , 0.  , 0.  , 0.  , 0.  , 0.  , 0.  , 0.  , 0.  ],\n",
        "# [0.  , 0.8  , 0.  , 0.  , 0.  , 0.  , 0.  , 0.  , 0.  , 0.  ],\n",
        "# [0.7 , 0.   , 0.  , 0.  , 0.  , 0.  , 0.  , 0.  , 0.  , 0.  ],\n",
        "# [0.  , 0.55 , 0.  , 0.  , 0.  , 0.  , 0.  , 0.  , 0.  , 0.  ],\n",
        "# [1   , 0.   , 0.  , 0.  , 0.  , 0.  , 0.  , 0.  , 0.  , 0.  ],\n",
        "# [0.4 , 0.   , 0.  , 0.  , 0.  , 0.  , 0.  , 0.  , 0.  , 0.  ],\n",
        "# [0.4 , 0.   , 0.  , 0.  , 0.  , 0.  , 0.  , 0.  , 0.  , 0.  ]]\n"
      ],
      "metadata": {
        "id": "DrlWSH6ZUZrQ"
      },
      "execution_count": 428,
      "outputs": []
    },
    {
      "cell_type": "markdown",
      "source": [
        "#Diseño\n",
        "- ¿Que técnica utilizo? ¿Por qué?"
      ],
      "metadata": {
        "id": "xdugKqUt_FND"
      }
    },
    {
      "cell_type": "markdown",
      "source": [
        "## Técnica heuristica de evolución"
      ],
      "metadata": {
        "id": "RM7hioscVpGk"
      }
    },
    {
      "cell_type": "markdown",
      "source": [
        "Dado que tenemos un espacio solución de tamaño $10^{8}$, tenemos 100 millones de posibilidades para encontrar la solución óptima. Es demasiado grande para usar fuerza bruta o recorrer todas las soluciones a través de un árbol de expansión. Lo mejor que podemos hacer es comenzar con una técnica heurística de evolución (EA) y después usar backtraking ya en conjuntos menores.\n",
        "\n",
        "- Los mapas de calor de los coeficientes dados anteriormente nos motiva a dividir el conjunto de horarios en los siguiente subconjuntos:\n",
        "\n"
      ],
      "metadata": {
        "id": "u8J7zFisWHRq"
      }
    },
    {
      "cell_type": "code",
      "source": [
        "############################# modelo 4-4-2 ###################################\n",
        "mejores_horarios_442 = [\"S18\", \"D18\", \"D20\", \"S20\"]\n",
        "buenos_horarios_442 = [\"D12\", \"S12\", \"S16\", \"D16\"]\n",
        "peores_horarios_442 = [\"V20\", \"L20\"]"
      ],
      "metadata": {
        "id": "5cleRGoUXcSn"
      },
      "execution_count": 429,
      "outputs": []
    },
    {
      "cell_type": "markdown",
      "source": [
        "Este modelo de partición lo llamaremos el modelo 4-4-2 y escogeremos a los individuos que cumplan con las características de modo que haremos un cruce entre ellas para obtener a la siguiente generación:"
      ],
      "metadata": {
        "id": "1LK1071cX3lO"
      }
    },
    {
      "cell_type": "code",
      "source": [
        "horarios_442 = [mejores_horarios_442, mejores_horarios_442, mejores_horarios_442, \\\n",
        "                mejores_horarios_442, buenos_horarios_442, buenos_horarios_442, \\\n",
        "                buenos_horarios_442, buenos_horarios_442, \\\n",
        "                ['V20'], ['L20']]"
      ],
      "metadata": {
        "id": "a-s0gTF8YWC-"
      },
      "execution_count": 430,
      "outputs": []
    },
    {
      "cell_type": "markdown",
      "source": [
        "Así como este modelo de evolución, también podemos generar modelos con otras particiones diferentes."
      ],
      "metadata": {
        "id": "Qush5hc0YhxA"
      }
    },
    {
      "cell_type": "code",
      "source": [
        "\n",
        "#############################  modelo 3-3-2-2 ###################################\n",
        "\n",
        "mejores_horarios_3322 = [\"D18\", \"D20\", \"S20\"]\n",
        "buenos_horarios_3322 = [\"S16\", \"D16\", \"S18\"]\n",
        "malos_horarios_3322 = [\"D12\", \"S12\"]\n",
        "peores_horarios_3322 = [\"V20\", \"L20\"]\n",
        "\n",
        "horarios_3322 = [mejores_horarios_3322, mejores_horarios_3322, mejores_horarios_3322, \\\n",
        "                buenos_horarios_3322, buenos_horarios_3322, buenos_horarios_3322, \\\n",
        "                malos_horarios_3322, malos_horarios_3322, \\\n",
        "                ['V20'], ['L20']]\n",
        "\n",
        "\n",
        "############################# modelo 4-4-2 ###################################\n",
        "\n",
        "mejores_horarios_442 = [\"S18\", \"D18\", \"D20\", \"S20\"]\n",
        "buenos_horarios_442 = [\"D12\", \"S12\", \"S16\", \"D16\"]\n",
        "peores_horarios_442 = [\"V20\", \"L20\"]\n",
        "horarios_442 = [mejores_horarios_442, mejores_horarios_442, mejores_horarios_442, \\\n",
        "                mejores_horarios_442, buenos_horarios_442, buenos_horarios_442, \\\n",
        "                buenos_horarios_442, buenos_horarios_442, \\\n",
        "                ['V20'], ['L20']]\n",
        "\n",
        "#############################  modelo 4-2-2-2 ###################################\n",
        "\n",
        "mejores_horarios_4222 = [\"S18\", \"D18\", \"D20\", \"S20\"]\n",
        "buenos_horarios_4222 = [\"S16\", \"D16\"]\n",
        "malos_horarios_4222 = [\"D12\", \"S12\"]\n",
        "peores_horarios_4222 = [\"V20\", \"L20\"]\n",
        "\n",
        "\n",
        "horarios_4222 = [mejores_horarios_4222, mejores_horarios_4222, mejores_horarios_4222, \\\n",
        "                mejores_horarios_4222, buenos_horarios_4222, buenos_horarios_4222, \\\n",
        "                malos_horarios_4222, malos_horarios_4222, \\\n",
        "                ['V20'], ['L20']]\n",
        "\n",
        "#############################  modelo 8-2 ###################################\n",
        "\n",
        "horarios_fin_de_semana = [\"D12\", \"S12\", \"S16\", \"D16\", \"S18\", \"D18\", \"D20\", \"S20\"]\n",
        "\n",
        "\n",
        "horarios_82 = [horarios_fin_de_semana, horarios_fin_de_semana, horarios_fin_de_semana, \\\n",
        "              horarios_fin_de_semana, horarios_fin_de_semana, horarios_fin_de_semana, \\\n",
        "              horarios_fin_de_semana, horarios_fin_de_semana, \\\n",
        "              ['V20'], ['L20']] #demora 3 horas\n"
      ],
      "metadata": {
        "id": "rqGm6KzILjXf"
      },
      "execution_count": 431,
      "outputs": []
    },
    {
      "cell_type": "markdown",
      "source": [
        "En la siguiente tabla mostramos la cantidad de individuos de la nueva generación en cada modelo.\n",
        "\n",
        "<center>\n",
        "\n",
        "|     Modelo |     Poblacion nueva generación |\n",
        "|-----------:|-------------:|\n",
        "|    3-3-2-2 |         2916 |\n",
        "|    4-2-2-2 |         4096 |\n",
        "|      4-4-2 |        65538 |\n",
        "|        8-2 |     16777216 |\n",
        "\n",
        "</center>\n",
        "\n",
        "Los tres primeros modelos nos permiten acotar bastante el problema inicial de 100 millones de individuos a unos miles."
      ],
      "metadata": {
        "id": "6EtKLCnXY9oH"
      }
    },
    {
      "cell_type": "markdown",
      "source": [
        "## Tecnica Backtracking"
      ],
      "metadata": {
        "id": "u5X9ztVhhj9W"
      }
    },
    {
      "cell_type": "markdown",
      "source": [
        "Ahora haremos backtraking sobre la nueva generación del modelo 4-4-2. Empezamos evaluando las soluciones con mayor número de encuentros simultaneos y vamos avanzando hasta que no hayan encuentros simultaneos. Usamos generadores para no correr el riesgo de no consumir la memoria del computador.\n",
        "\n",
        "También definimos una función para graficar la función objetivo."
      ],
      "metadata": {
        "id": "MF55hYg3hi_A"
      }
    },
    {
      "cell_type": "code",
      "source": [
        "# Generar soluciones factibles\n",
        "def generar_tuplas(horarios):\n",
        "    for combinacion in itertools.product(*horarios):\n",
        "         yield combinacion\n",
        "\n",
        "def graficar(lista, ref):\n",
        "    plt.figure(figsize=(15, 4))\n",
        "    for i, curva in enumerate(lista):\n",
        "        plt.plot(range(len(curva)), [tupla[1] for tupla in curva], label=f'Jornada {ref+i} de la Liga', linestyle='-')\n",
        "    plt.grid(True)\n",
        "    plt.xlabel('Enumeración de soluciones factibles')\n",
        "    plt.ylabel('Valor de función objetivo')\n",
        "    plt.title('Función objetivo proyectada sobre el camino determinado por el conjunto factible')\n",
        "    plt.legend()\n",
        "    plt.show()"
      ],
      "metadata": {
        "id": "N_mdPh1ackGy"
      },
      "execution_count": 432,
      "outputs": []
    },
    {
      "cell_type": "markdown",
      "source": [
        "La siguiente función se encarga de encontrar el índice del individuo de la nueva generación con el valor óptimo y la segunda función muestra al individuo como tal, su forma matricial y si forma categórica."
      ],
      "metadata": {
        "id": "9vUbJwk0dnVr"
      }
    },
    {
      "cell_type": "code",
      "source": [
        "def optimizar(generador_, valores):\n",
        "\n",
        "    generador = generador_\n",
        "    # Definir variables auxiliares\n",
        "    contador = 0\n",
        "    maximo_valor = 0\n",
        "    indice_maximo = None\n",
        "    resultado = []\n",
        "    secuencia = []\n",
        "    horarios_codificados = []\n",
        "\n",
        "    for indice, tupla in enumerate(generador):\n",
        "       # Incrementar el contador cada vez que se genera una tupla\n",
        "        contador += 1\n",
        "        _, lista, resultado = evaluar_funcion_objetivo(tupla, valores)\n",
        "\n",
        "        # Guardar secuencia y horarios codificados\n",
        "        secuencia.append((indice, np.round(resultado[0], 3)))\n",
        "        horarios_codificados.append(lista)\n",
        "\n",
        "        # Actualizar el máximo y su índice si se encuentra un nuevo máximo\n",
        "        if resultado > maximo_valor:\n",
        "            maximo_valor = resultado\n",
        "            indice_maximo = indice\n",
        "        maximo_valor = max(maximo_valor, resultado)\n",
        "\n",
        "    # Imprimir el total de tuplas generadas\n",
        "    print(\"Total de tuplas generadas:\", contador)\n",
        "    print(\"Máximo valor encontrado:\", maximo_valor[0],)\n",
        "\n",
        "    # Graficar la curva\n",
        "    secuencia_ordenada = sorted(secuencia, key=lambda x: x[1])\n",
        "    return indice_maximo, secuencia_ordenada\n",
        "\n",
        "\n",
        "def obtener_matriz_maxima(indice_maximo, generador_, lista_valores):\n",
        "    # Imprimir el elemento de la lista con el máximo valor\n",
        "    resultado = []\n",
        "    if indice_maximo is not None:\n",
        "        generador = generador_     # Reiniciamos el generador\n",
        "        for indice, tupla in enumerate(generador):\n",
        "           if indice == indice_maximo:\n",
        "               matriz, _, resultado = evaluar_funcion_objetivo(tupla, lista_valores)\n",
        "               print(f\"\\n matriz_max:\")\n",
        "               display(matriz)\n",
        "               print('\\n horario_max = ', tupla)\n",
        "               print(f\"f(horario_max) = \", resultado[0])\n",
        "               break"
      ],
      "metadata": {
        "id": "h0lR603mow0x"
      },
      "execution_count": 433,
      "outputs": []
    },
    {
      "cell_type": "markdown",
      "source": [
        "Aplicamos el algoritmo a tres jornadas diferentes de la LIGA (jornadas 5 6 y 7) y graficamos la función objetivo proyectada sobre el camino creciente determinado por los individuos de la nueva generación."
      ],
      "metadata": {
        "id": "fX3HKwYOeGrs"
      }
    },
    {
      "cell_type": "code",
      "source": [
        "# Tipos de modelos de horarios disponibles\n",
        "# 3-3-2-2  ---->       2916 soluciones factibles   ---->  ingrese generar_tuplas(horarios_3322)\n",
        "# 4-2-2-2  ---->       4096 soluciones factibles   ---->  ingrese generar_tuplas(horarios_4422)\n",
        "#   4-4-2  ---->      65538 soluciones factibles   ---->   ingrese generar_tuplas(horarios_422)\n",
        "#     8-2  ---->   16777216 soluciones factibles   ---->    ingrese generar_tuplas(horarios_82)\n",
        "\n",
        "# Pa explorar espacio de solución generado de forma aleatoria ingrese\n",
        "# generar_tuplas_aleatorias(20000)  por ejemplo.\n",
        "\n",
        "# Jornada de referencia\n",
        "ref = 5  # Número de referencia inicial\n",
        "num_jornadas = 3  # Número de jornadas consecutivas\n",
        "\n",
        "# Crear una lista para almacenar los resultados de cada jornada\n",
        "secuencia_ordenada_lista = []\n",
        "\n",
        "# Iterar sobre el número de jornadas\n",
        "for i in range(num_jornadas):\n",
        "    print(\"-----------------------------------------------------------------------------------\")\n",
        "    print(f\"JORNADA {ref+i} DE LA LIGA: \")\n",
        "    print(\"-----------------------------------------------------------------------------------\")\n",
        "    # Llamar a la función optimizar para cada jornada y guardar los resultados\n",
        "    indice_maximo, secuencia_ordenada = optimizar(generar_tuplas(horarios_442), valores_encuentros[ref+i])\n",
        "    obtener_matriz_maxima(indice_maximo, generar_tuplas(horarios_442), valores_encuentros[ref+i])\n",
        "    secuencia_ordenada_lista.append(secuencia_ordenada)\n",
        "    print(\"\\n\\n\")\n",
        "# Llamar a la función graficar con la lista de resultados\n",
        "graficar(secuencia_ordenada_lista, ref)\n"
      ],
      "metadata": {
        "colab": {
          "base_uri": "https://localhost:8080/",
          "height": 1426
        },
        "id": "x5alfNF4ielr",
        "outputId": "3535ccd9-7ee7-48e2-83a9-b28447739e2a"
      },
      "execution_count": 434,
      "outputs": [
        {
          "output_type": "stream",
          "name": "stdout",
          "text": [
            "-----------------------------------------------------------------------------------\n",
            "JORNADA 5 DE LA LIGA: \n",
            "-----------------------------------------------------------------------------------\n",
            "Total de tuplas generadas: 65536\n",
            "Máximo valor encontrado: 6.706999999999999\n",
            "\n",
            " matriz_max:\n"
          ]
        },
        {
          "output_type": "display_data",
          "data": {
            "text/plain": [
              "array([[0.99, 0.  , 0.  , 0.  , 0.  , 0.  , 0.  , 0.  , 0.  , 0.  ],\n",
              "       [1.  , 0.  , 0.  , 0.  , 0.  , 0.  , 0.  , 0.  , 0.  , 0.  ],\n",
              "       [0.85, 0.  , 0.  , 0.  , 0.  , 0.  , 0.  , 0.  , 0.  , 0.  ],\n",
              "       [0.8 , 0.  , 0.  , 0.  , 0.  , 0.  , 0.  , 0.  , 0.  , 0.  ],\n",
              "       [0.75, 0.  , 0.  , 0.  , 0.  , 0.  , 0.  , 0.  , 0.  , 0.  ],\n",
              "       [0.45, 0.  , 0.  , 0.  , 0.  , 0.  , 0.  , 0.  , 0.  , 0.  ],\n",
              "       [0.55, 0.  , 0.  , 0.  , 0.  , 0.  , 0.  , 0.  , 0.  , 0.  ],\n",
              "       [0.7 , 0.  , 0.  , 0.  , 0.  , 0.  , 0.  , 0.  , 0.  , 0.  ],\n",
              "       [0.4 , 0.  , 0.  , 0.  , 0.  , 0.  , 0.  , 0.  , 0.  , 0.  ],\n",
              "       [0.4 , 0.  , 0.  , 0.  , 0.  , 0.  , 0.  , 0.  , 0.  , 0.  ]])"
            ]
          },
          "metadata": {}
        },
        {
          "output_type": "stream",
          "name": "stdout",
          "text": [
            "\n",
            " horario_max =  ('D20', 'S20', 'D18', 'S18', 'D16', 'D12', 'S12', 'S16', 'V20', 'L20')\n",
            "f(horario_max) =  6.706999999999999\n",
            "\n",
            "\n",
            "\n",
            "-----------------------------------------------------------------------------------\n",
            "JORNADA 6 DE LA LIGA: \n",
            "-----------------------------------------------------------------------------------\n",
            "Total de tuplas generadas: 65536\n",
            "Máximo valor encontrado: 6.699999999999999\n",
            "\n",
            " matriz_max:\n"
          ]
        },
        {
          "output_type": "display_data",
          "data": {
            "text/plain": [
              "array([[0.99, 0.  , 0.  , 0.  , 0.  , 0.  , 0.  , 0.  , 0.  , 0.  ],\n",
              "       [1.  , 0.  , 0.  , 0.  , 0.  , 0.  , 0.  , 0.  , 0.  , 0.  ],\n",
              "       [0.85, 0.  , 0.  , 0.  , 0.  , 0.  , 0.  , 0.  , 0.  , 0.  ],\n",
              "       [0.8 , 0.  , 0.  , 0.  , 0.  , 0.  , 0.  , 0.  , 0.  , 0.  ],\n",
              "       [0.7 , 0.  , 0.  , 0.  , 0.  , 0.  , 0.  , 0.  , 0.  , 0.  ],\n",
              "       [0.75, 0.  , 0.  , 0.  , 0.  , 0.  , 0.  , 0.  , 0.  , 0.  ],\n",
              "       [0.45, 0.  , 0.  , 0.  , 0.  , 0.  , 0.  , 0.  , 0.  , 0.  ],\n",
              "       [0.55, 0.  , 0.  , 0.  , 0.  , 0.  , 0.  , 0.  , 0.  , 0.  ],\n",
              "       [0.4 , 0.  , 0.  , 0.  , 0.  , 0.  , 0.  , 0.  , 0.  , 0.  ],\n",
              "       [0.4 , 0.  , 0.  , 0.  , 0.  , 0.  , 0.  , 0.  , 0.  , 0.  ]])"
            ]
          },
          "metadata": {}
        },
        {
          "output_type": "stream",
          "name": "stdout",
          "text": [
            "\n",
            " horario_max =  ('D20', 'S20', 'D18', 'S18', 'S16', 'D16', 'D12', 'S12', 'V20', 'L20')\n",
            "f(horario_max) =  6.699999999999999\n",
            "\n",
            "\n",
            "\n",
            "-----------------------------------------------------------------------------------\n",
            "JORNADA 7 DE LA LIGA: \n",
            "-----------------------------------------------------------------------------------\n",
            "Total de tuplas generadas: 65536\n",
            "Máximo valor encontrado: 6.515\n",
            "\n",
            " matriz_max:\n"
          ]
        },
        {
          "output_type": "display_data",
          "data": {
            "text/plain": [
              "array([[1.  , 0.  , 0.  , 0.  , 0.  , 0.  , 0.  , 0.  , 0.  , 0.  ],\n",
              "       [0.85, 0.  , 0.  , 0.  , 0.  , 0.  , 0.  , 0.  , 0.  , 0.  ],\n",
              "       [0.99, 0.  , 0.  , 0.  , 0.  , 0.  , 0.  , 0.  , 0.  , 0.  ],\n",
              "       [0.8 , 0.  , 0.  , 0.  , 0.  , 0.  , 0.  , 0.  , 0.  , 0.  ],\n",
              "       [0.7 , 0.  , 0.  , 0.  , 0.  , 0.  , 0.  , 0.  , 0.  , 0.  ],\n",
              "       [0.75, 0.  , 0.  , 0.  , 0.  , 0.  , 0.  , 0.  , 0.  , 0.  ],\n",
              "       [0.45, 0.  , 0.  , 0.  , 0.  , 0.  , 0.  , 0.  , 0.  , 0.  ],\n",
              "       [0.55, 0.  , 0.  , 0.  , 0.  , 0.  , 0.  , 0.  , 0.  , 0.  ],\n",
              "       [0.4 , 0.  , 0.  , 0.  , 0.  , 0.  , 0.  , 0.  , 0.  , 0.  ],\n",
              "       [0.4 , 0.  , 0.  , 0.  , 0.  , 0.  , 0.  , 0.  , 0.  , 0.  ]])"
            ]
          },
          "metadata": {}
        },
        {
          "output_type": "stream",
          "name": "stdout",
          "text": [
            "\n",
            " horario_max =  ('S20', 'D18', 'D20', 'S18', 'S16', 'D16', 'D12', 'S12', 'V20', 'L20')\n",
            "f(horario_max) =  6.515\n",
            "\n",
            "\n",
            "\n"
          ]
        },
        {
          "output_type": "display_data",
          "data": {
            "text/plain": [
              "<Figure size 1500x400 with 1 Axes>"
            ],
            "image/png": "[encoded data removed]"
          },
          "metadata": {}
        }
      ]
    },
    {
      "cell_type": "markdown",
      "source": [
        "Comparamos nuestros resultados con un enfoque aleatorio sobre el espacio de soluciones completo sobre una muestra de 500000 individuos. Casi 9 veces más individuos que los usados en el modelo 4-4-2"
      ],
      "metadata": {
        "id": "MCdL06O5ezAG"
      }
    },
    {
      "cell_type": "code",
      "source": [
        "# Generar soluciones aleatorias\n",
        "def generar_tuplas_aleatorias(sample):\n",
        "    random.seed(42)\n",
        "    for _ in range(sample):\n",
        "        lista_aleatoria = random.choices(horarios_fin_de_semana, k=8) + ['V20', 'L20']\n",
        "        tupla_aleatoria = tuple(lista_aleatoria)\n",
        "        yield tupla_aleatoria\n"
      ],
      "metadata": {
        "id": "gHGgoV0ReyHn"
      },
      "execution_count": 435,
      "outputs": []
    },
    {
      "cell_type": "code",
      "source": [
        "# Jornada de referencia\n",
        "ref = 5  # Número de referencia inicial\n",
        "num_jornadas = 3  # Número de jornadas consecutivas\n",
        "\n",
        "# Crear una lista para almacenar los resultados de cada jornada\n",
        "secuencia_ordenada_lista = []\n",
        "\n",
        "# Iterar sobre el número de jornadas\n",
        "for i in range(num_jornadas):\n",
        "    print(\"-----------------------------------------------------------------------------------\")\n",
        "    print(f\"JORNADA {ref+i} DE LA LIGA: \")\n",
        "    print(\"-----------------------------------------------------------------------------------\")\n",
        "    # Llamar a la función optimizar para cada jornada y guardar los resultados\n",
        "    indice_maximo, secuencia_ordenada = optimizar(generar_tuplas_aleatorias(500000), valores_encuentros[ref+i])\n",
        "    obtener_matriz_maxima(indice_maximo, generar_tuplas_aleatorias(500000), valores_encuentros[ref+i])\n",
        "    secuencia_ordenada_lista.append(secuencia_ordenada)\n",
        "    print(\"\\n\\n\")\n",
        "# Llamar a la función graficar con la lista de resultados\n",
        "graficar(secuencia_ordenada_lista, ref)"
      ],
      "metadata": {
        "colab": {
          "base_uri": "https://localhost:8080/",
          "height": 1426
        },
        "id": "FqDp9JG55Iiv",
        "outputId": "d7b7948d-8897-4d7f-b5f3-6455a3f6ffd2"
      },
      "execution_count": 436,
      "outputs": [
        {
          "output_type": "stream",
          "name": "stdout",
          "text": [
            "-----------------------------------------------------------------------------------\n",
            "JORNADA 5 DE LA LIGA: \n",
            "-----------------------------------------------------------------------------------\n",
            "Total de tuplas generadas: 500000\n",
            "Máximo valor encontrado: 6.6995\n",
            "\n",
            " matriz_max:\n"
          ]
        },
        {
          "output_type": "display_data",
          "data": {
            "text/plain": [
              "array([[0.99, 0.  , 0.  , 0.  , 0.  , 0.  , 0.  , 0.  , 0.  , 0.  ],\n",
              "       [1.  , 0.  , 0.  , 0.  , 0.  , 0.  , 0.  , 0.  , 0.  , 0.  ],\n",
              "       [0.85, 0.  , 0.  , 0.  , 0.  , 0.  , 0.  , 0.  , 0.  , 0.  ],\n",
              "       [0.7 , 0.  , 0.  , 0.  , 0.  , 0.  , 0.  , 0.  , 0.  , 0.  ],\n",
              "       [0.8 , 0.  , 0.  , 0.  , 0.  , 0.  , 0.  , 0.  , 0.  , 0.  ],\n",
              "       [0.45, 0.  , 0.  , 0.  , 0.  , 0.  , 0.  , 0.  , 0.  , 0.  ],\n",
              "       [0.75, 0.  , 0.  , 0.  , 0.  , 0.  , 0.  , 0.  , 0.  , 0.  ],\n",
              "       [0.55, 0.  , 0.  , 0.  , 0.  , 0.  , 0.  , 0.  , 0.  , 0.  ],\n",
              "       [0.4 , 0.  , 0.  , 0.  , 0.  , 0.  , 0.  , 0.  , 0.  , 0.  ],\n",
              "       [0.4 , 0.  , 0.  , 0.  , 0.  , 0.  , 0.  , 0.  , 0.  , 0.  ]])"
            ]
          },
          "metadata": {}
        },
        {
          "output_type": "stream",
          "name": "stdout",
          "text": [
            "\n",
            " horario_max =  ('D20', 'S20', 'D18', 'S16', 'S18', 'D12', 'D16', 'S12', 'V20', 'L20')\n",
            "f(horario_max) =  6.6995\n",
            "\n",
            "\n",
            "\n",
            "-----------------------------------------------------------------------------------\n",
            "JORNADA 6 DE LA LIGA: \n",
            "-----------------------------------------------------------------------------------\n",
            "Total de tuplas generadas: 500000\n",
            "Máximo valor encontrado: 6.6949999999999985\n",
            "\n",
            " matriz_max:\n"
          ]
        },
        {
          "output_type": "display_data",
          "data": {
            "text/plain": [
              "array([[1.  , 0.  , 0.  , 0.  , 0.  , 0.  , 0.  , 0.  , 0.  , 0.  ],\n",
              "       [0.99, 0.  , 0.  , 0.  , 0.  , 0.  , 0.  , 0.  , 0.  , 0.  ],\n",
              "       [0.8 , 0.  , 0.  , 0.  , 0.  , 0.  , 0.  , 0.  , 0.  , 0.  ],\n",
              "       [0.85, 0.  , 0.  , 0.  , 0.  , 0.  , 0.  , 0.  , 0.  , 0.  ],\n",
              "       [0.7 , 0.  , 0.  , 0.  , 0.  , 0.  , 0.  , 0.  , 0.  , 0.  ],\n",
              "       [0.75, 0.  , 0.  , 0.  , 0.  , 0.  , 0.  , 0.  , 0.  , 0.  ],\n",
              "       [0.45, 0.  , 0.  , 0.  , 0.  , 0.  , 0.  , 0.  , 0.  , 0.  ],\n",
              "       [0.55, 0.  , 0.  , 0.  , 0.  , 0.  , 0.  , 0.  , 0.  , 0.  ],\n",
              "       [0.4 , 0.  , 0.  , 0.  , 0.  , 0.  , 0.  , 0.  , 0.  , 0.  ],\n",
              "       [0.4 , 0.  , 0.  , 0.  , 0.  , 0.  , 0.  , 0.  , 0.  , 0.  ]])"
            ]
          },
          "metadata": {}
        },
        {
          "output_type": "stream",
          "name": "stdout",
          "text": [
            "\n",
            " horario_max =  ('S20', 'D20', 'S18', 'D18', 'S16', 'D16', 'D12', 'S12', 'V20', 'L20')\n",
            "f(horario_max) =  6.6949999999999985\n",
            "\n",
            "\n",
            "\n",
            "-----------------------------------------------------------------------------------\n",
            "JORNADA 7 DE LA LIGA: \n",
            "-----------------------------------------------------------------------------------\n",
            "Total de tuplas generadas: 500000\n",
            "Máximo valor encontrado: 6.515\n",
            "\n",
            " matriz_max:\n"
          ]
        },
        {
          "output_type": "display_data",
          "data": {
            "text/plain": [
              "array([[1.  , 0.  , 0.  , 0.  , 0.  , 0.  , 0.  , 0.  , 0.  , 0.  ],\n",
              "       [0.85, 0.  , 0.  , 0.  , 0.  , 0.  , 0.  , 0.  , 0.  , 0.  ],\n",
              "       [0.99, 0.  , 0.  , 0.  , 0.  , 0.  , 0.  , 0.  , 0.  , 0.  ],\n",
              "       [0.8 , 0.  , 0.  , 0.  , 0.  , 0.  , 0.  , 0.  , 0.  , 0.  ],\n",
              "       [0.7 , 0.  , 0.  , 0.  , 0.  , 0.  , 0.  , 0.  , 0.  , 0.  ],\n",
              "       [0.75, 0.  , 0.  , 0.  , 0.  , 0.  , 0.  , 0.  , 0.  , 0.  ],\n",
              "       [0.55, 0.  , 0.  , 0.  , 0.  , 0.  , 0.  , 0.  , 0.  , 0.  ],\n",
              "       [0.45, 0.  , 0.  , 0.  , 0.  , 0.  , 0.  , 0.  , 0.  , 0.  ],\n",
              "       [0.4 , 0.  , 0.  , 0.  , 0.  , 0.  , 0.  , 0.  , 0.  , 0.  ],\n",
              "       [0.4 , 0.  , 0.  , 0.  , 0.  , 0.  , 0.  , 0.  , 0.  , 0.  ]])"
            ]
          },
          "metadata": {}
        },
        {
          "output_type": "stream",
          "name": "stdout",
          "text": [
            "\n",
            " horario_max =  ('S20', 'D18', 'D20', 'S18', 'S16', 'D16', 'S12', 'D12', 'V20', 'L20')\n",
            "f(horario_max) =  6.515\n",
            "\n",
            "\n",
            "\n"
          ]
        },
        {
          "output_type": "display_data",
          "data": {
            "text/plain": [
              "<Figure size 1500x400 with 1 Axes>"
            ],
            "image/png": "[encoded data removed]"
          },
          "metadata": {}
        }
      ]
    },
    {
      "cell_type": "markdown",
      "source": [
        "- Podemos concluir que el algoritmo evolutivo produjo resultados bastante buenos, considerando que nuestro espacio solucion se reduce al orden de los miles de individuos.\n",
        "\n",
        "- Resulta interesante demostrar que la forma óptima es la manera más intuitiva de organizar los partidos con encuentros en horarios diferentes y dispuestos de del mejor horario al pero de acuerdo a la audiencia."
      ],
      "metadata": {
        "id": "EmEtIHr3foXi"
      }
    },
    {
      "cell_type": "markdown",
      "source": [
        "#Análisis\n",
        "- ¿Que complejidad tiene el problema?. Orden de complejidad y Contabilizar el espacio de soluciones"
      ],
      "metadata": {
        "id": "6U5b7-nK_CST"
      }
    },
    {
      "cell_type": "markdown",
      "source": [
        "Dado que una determinada jornada tiene 8 encuentros fuera de los encuentros los días viernes y lunes y cada encuentro puede realizarse en 10 posibles horarios entonces tenemos un espacio solución de tamaño $10^{8}$ para una jornada de la Liga en específico lo que se traduce en 100 millones de posibilidades para encontrar la solución óptima.\n",
        "\n",
        "Se hizo el experimento de evaluar la función objetivo para para el ciclo for principal y se obtuvo un tiempo medio de 3.21e-04 segundos. Para el modelo 8-2 que corresponde a tamaño de 16777216 individuos, el tiempo estimado para concluir el algoritmo es de 1.494592 horas. El tiempo para recorrer el espacio total de 100 millones de individuos es de 8.908463 horas. No tiene sentido hacerlo por fuerza bruta cuando el enfoque evolutivo y backtraking nos dio tiempos del ordel de los segundos.\n",
        "\n",
        "\n",
        "```\n"
      ],
      "metadata": {
        "id": "FLjBaIHBSW2Q"
      }
    }
  ]
}